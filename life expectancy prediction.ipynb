{
    "cells": [
        {
            "metadata": {},
            "cell_type": "markdown",
            "source": "# Description\nthis notebook analyzes and visualizes life expectancy factor data\n\n"
        },
        {
            "metadata": {
                "collapsed": true
            },
            "cell_type": "code",
            "source": "\nbody = client_b9b58e7706aa4dfe84f3a99915e1a142.get_object(Bucket='predictinglifeexpectancy-donotdelete-pr-qywasxsmadcxk2',Key='Life Expectancy Data.csv')['Body']\n# add missing __iter__ method, so pandas accepts body as file-like object\nif not hasattr(body, \"__iter__\"): body.__iter__ = types.MethodType( __iter__, body )\n\ndf_data_2 = pd.read_csv(body)\ndf_data_2.head()\nimport types\nimport pandas as pd\nfrom botocore.client import Config\nimport ibm_boto3\n\ndef __iter__(self): return 0\n\n# @hidden_cell\n# The following code accesses a file in your IBM Cloud Object Storage. It includes your credentials.\n# You might want to remove those credentials before you share the notebook.\nclient_b9b58e7706aa4dfe84f3a99915e1a142 = ibm_boto3.client(service_name='s3',\n    ibm_api_key_id='kXeA7wttE7bbmkWr1-yQAZQAqFiklgMOPjr9ZHo-XxHA',\n    ibm_auth_endpoint=\"https://iam.cloud.ibm.com/oidc/token\",\n    config=Config(signature_version='oauth'),\n    endpoint_url='https://s3.eu-geo.objectstorage.service.networklayer.com')\n\nbody = client_b9b58e7706aa4dfe84f3a99915e1a142.get_object(Bucket='predictinglifeexpectancy-donotdelete-pr-qywasxsmadcxk2',Key='Life Expectancy Data.csv')['Body']\n# add missing __iter__ method, so pandas accepts body as file-like object\nif not hasattr(body, \"__iter__\"): body.__iter__ = types.MethodType( __iter__, body )\n\ndf_data_1 = pd.read_csv(body)\ndf_data_1.head()",
            "execution_count": null,
            "outputs": []
        }
    ],
    "metadata": {
        "kernelspec": {
            "name": "python3",
            "display_name": "Python 3.6",
            "language": "python"
        },
        "language_info": {
            "name": "python",
            "version": "3.6.9",
            "mimetype": "text/x-python",
            "codemirror_mode": {
                "name": "ipython",
                "version": 3
            },
            "pygments_lexer": "ipython3",
            "nbconvert_exporter": "python",
            "file_extension": ".py"
        }
    },
    "nbformat": 4,
    "nbformat_minor": 1
}